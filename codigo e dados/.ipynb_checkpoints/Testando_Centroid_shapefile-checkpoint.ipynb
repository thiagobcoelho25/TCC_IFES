{
 "cells": [
  {
   "cell_type": "code",
   "execution_count": null,
   "metadata": {
    "id": "PYEg0f5DFFm-",
    "tags": []
   },
   "outputs": [],
   "source": [
    "#!pip install pysal"
   ]
  },
  {
   "cell_type": "code",
   "execution_count": null,
   "metadata": {
    "id": "h5HCtoSx29C8"
   },
   "outputs": [],
   "source": [
    "#!pip install geopandas\n",
    "#!pip install odfpy"
   ]
  },
  {
   "cell_type": "code",
   "execution_count": 1,
   "metadata": {
    "execution": {
     "iopub.execute_input": "2022-02-13T13:42:57.955650Z",
     "iopub.status.busy": "2022-02-13T13:42:57.951655Z",
     "iopub.status.idle": "2022-02-13T13:42:57.963654Z",
     "shell.execute_reply": "2022-02-13T13:42:57.963654Z",
     "shell.execute_reply.started": "2022-02-13T13:42:57.955650Z"
    },
    "id": "OyFlNlrUxrMU",
    "tags": []
   },
   "outputs": [
    {
     "name": "stderr",
     "output_type": "stream",
     "text": [
      "C:\\Users\\thiag\\anaconda3\\envs\\TCC_IFES\\lib\\site-packages\\pysal\\explore\\segregation\\network\\network.py:15: UserWarning: You need pandana and urbanaccess to work with segregation's network module\n",
      "You can install them with  `pip install urbanaccess pandana` or `conda install -c udst pandana urbanaccess`\n",
      "  warn(\n",
      "C:\\Users\\thiag\\anaconda3\\envs\\TCC_IFES\\lib\\site-packages\\pysal\\model\\spvcm\\abstracts.py:10: UserWarning: The `dill` module is required to use the sqlite backend fully.\n",
      "  from .sqlite import head_to_sql, start_sql\n"
     ]
    }
   ],
   "source": [
    "import numpy as np\n",
    "import pandas as pd\n",
    "import geopandas\n",
    "from pysal import lib as libpysal\n",
    "import matplotlib.pyplot as plt"
   ]
  },
  {
   "cell_type": "code",
   "execution_count": 2,
   "metadata": {
    "execution": {
     "iopub.execute_input": "2022-02-13T13:43:01.248046Z",
     "iopub.status.busy": "2022-02-13T13:43:01.248046Z",
     "iopub.status.idle": "2022-02-13T13:43:02.308341Z",
     "shell.execute_reply": "2022-02-13T13:43:02.307757Z",
     "shell.execute_reply.started": "2022-02-13T13:43:01.248046Z"
    },
    "id": "5yOgoHsZzZkG",
    "tags": []
   },
   "outputs": [],
   "source": [
    "## DATASET Cachoeiro de Itapemirim\n",
    "dataset_cachoeiro = geopandas.read_file(r\"C://Users//thiag//Desktop//Jupyter Notebooks//TCC_IFES//shapefile com ponte//Mapa_Cachoeiro.shp\")\n",
    "#area_dos_bairros = pd.read_excel(\"/content/drive/MyDrive/Shapefiles/Area dos Bairros/ÁREA_BAIRROS_SEPARADAMENTE_2018.ods_0.ods\", header=0)\n",
    "area_dos_bairros = pd.read_excel(\"C:\\\\Users\\\\thiag\\Desktop\\Jupyter Notebooks\\TCC_IFES\\\\atributos bairros\\ÁREA_POPULAÇÃO_BAIRROS_SEPARADAMENTE_2018.ods_0.ods\", header=0)\n",
    "\n",
    "## Diminui para -2 os IDs dos bairros, ordena e indexa corretamente\n",
    "dataset_cachoeiro['id'] = dataset_cachoeiro['id'].apply(lambda x : x-2)\n",
    "#dataset_cachoeiro = dataset_cachoeiro.set_index('id')\n",
    "dataset_cachoeiro = dataset_cachoeiro.sort_values(['id'])\n",
    "dataset_cachoeiro = dataset_cachoeiro.reset_index(drop=True)\n",
    "dataset_cachoeiro['nome'] = area_dos_bairros['NOME']\n",
    "dataset_cachoeiro['população'] = area_dos_bairros['POPULAÇÂO_2019']\n",
    "\n",
    "# Mudando ordem das colunas\n",
    "dataset_cachoeiro = dataset_cachoeiro[['id','nome','geometry','Area','população']]"
   ]
  },
  {
   "cell_type": "code",
   "execution_count": 3,
   "metadata": {
    "execution": {
     "iopub.execute_input": "2022-02-13T13:43:07.233858Z",
     "iopub.status.busy": "2022-02-13T13:43:07.233858Z",
     "iopub.status.idle": "2022-02-13T13:43:07.390927Z",
     "shell.execute_reply": "2022-02-13T13:43:07.390927Z",
     "shell.execute_reply.started": "2022-02-13T13:43:07.233858Z"
    },
    "id": "GHGgZW4Nw0Bg",
    "scrolled": true,
    "tags": []
   },
   "outputs": [],
   "source": [
    "## Construindo função grafos linhas de adjacencia\n",
    "contig_linhas_matrix = libpysal.weights.Queen.from_dataframe(df=dataset_cachoeiro)"
   ]
  },
  {
   "cell_type": "code",
   "execution_count": 4,
   "metadata": {
    "execution": {
     "iopub.execute_input": "2022-02-13T13:43:16.235814Z",
     "iopub.status.busy": "2022-02-13T13:43:16.235814Z",
     "iopub.status.idle": "2022-02-13T13:43:16.263799Z",
     "shell.execute_reply": "2022-02-13T13:43:16.263799Z",
     "shell.execute_reply.started": "2022-02-13T13:43:16.235814Z"
    },
    "id": "BiSrqUfpA45Z",
    "tags": []
   },
   "outputs": [],
   "source": [
    "import random\n",
    "class Individuo():\n",
    "  def __init__(self, lista_distritos_existentes: list, df: geopandas.GeoDataFrame, soma_populacao: int,geracao=0):\n",
    "    self.geracao = geracao\n",
    "    self.lista_distritos_existentes = lista_distritos_existentes\n",
    "    self.nota_avaliacao = 0\n",
    "    self.cromossomo = []\n",
    "    self.df = df\n",
    "    self.soma_populacao = soma_populacao\n",
    "    \n",
    "  def gerar_primeira_geracao(self, tamanho_cromossomo: int, dicionario_adjacencia: dict):\n",
    "    self.cromossomo = ['' for x in range(tamanho_cromossomo)]\n",
    "\n",
    "    bairros_selecionados = random.sample(range(0, 69), len(self.lista_distritos_existentes))\n",
    "    for idx, distrito in enumerate(self.lista_distritos_existentes):\n",
    "      self.cromossomo[bairros_selecionados[idx]] = distrito\n",
    "\n",
    "    preenchimento_completo = False\n",
    "    while preenchimento_completo != True:\n",
    "      preenchimento_completo = True\n",
    "      for idx, bairro  in enumerate(self.cromossomo):\n",
    "        if bairro != '':\n",
    "          #print(\"Bairro: \",bairro)\n",
    "          bairros_adjacentes = dicionario_adjacencia[idx]\n",
    "          #print(\"Bairros adjacentes: \", bairros_adjacentes)\n",
    "          for bairro_adjacente in bairros_adjacentes:\n",
    "            if self.cromossomo[bairro_adjacente] == '':\n",
    "              self.cromossomo[bairro_adjacente] = bairro\n",
    "        else:\n",
    "          preenchimento_completo = False\n",
    "  \n",
    "  def soma_populacao_distrito(self, bairros_distrito: geopandas.GeoDataFrame):\n",
    "    soma_populacao_distrito = bairros_distrito['população'].sum()\n",
    "    soma_populacao_distrito = soma_populacao_distrito - round(self.soma_populacao/len(self.lista_distritos_existentes))\n",
    "    return abs(soma_populacao_distrito)\n",
    "  \n",
    "  def soma_distancia_entre_centroids(self, bairros_distrito: geopandas.GeoDataFrame):\n",
    "    centroides_dos_bairro = bairros_distrito.centroid\n",
    "    centroide_principal = bairros_distrito.dissolve().centroid\n",
    "    soma_distancia_entre_centroids = centroides_dos_bairro.distance(centroide_principal[0]).sum()\n",
    "    return soma_distancia_entre_centroids\n",
    "  \n",
    "  def funcao_fitness(self):\n",
    "    soma_total_populacao = 0\n",
    "    soma_total_distancia = 0\n",
    "    for i, distrito in enumerate(self.lista_distritos_existentes):\n",
    "      bairros_pertencentes_distrito = [idx for idx, element in enumerate(self.cromossomo) if element == distrito]\n",
    "      dataframe_bairros_pertencentes_distrito = self.df[self.df['id'].isin(bairros_pertencentes_distrito)] # ou dataset_cachoeiro.iloc[[53,16,20,49,47]]\n",
    "      if self.verifica_contiguidade(dataframe_bairros_pertencentes_distrito) > 1:\n",
    "        self.nota_avaliacao = 999999999\n",
    "        return\n",
    "      \n",
    "      soma_total_populacao += self.soma_populacao_distrito(dataframe_bairros_pertencentes_distrito)\n",
    "      soma_total_distancia += self.soma_distancia_entre_centroids(dataframe_bairros_pertencentes_distrito)\n",
    "    self.nota_avaliacao = soma_total_populacao + soma_total_distancia\n",
    "  \n",
    "  def verifica_contiguidade(self, bairros_distrito: geopandas.GeoDataFrame):\n",
    "    if len(bairros_distrito) < 1:\n",
    "      return 2\n",
    "    w = libpysal.weights.Queen.from_dataframe(bairros_distrito,silence_warnings=True)\n",
    "    return w.n_components # Peguei da documentação https://pysal.org/libpysal/generated/libpysal.weights.W.html\n",
    "  \n",
    "  def crossover(self, outro_individuo):\n",
    "    ponto_corte = round(random.random() * len(self.cromossomo))\n",
    "\n",
    "    cromossomo_filho_1 = outro_individuo.cromossomo[0:ponto_corte] + self.cromossomo[ponto_corte::]\n",
    "    cromossomo_filho_2 = self.cromossomo[0:ponto_corte] + outro_individuo.cromossomo[ponto_corte::]\n",
    "\n",
    "    filhos = [Individuo(self.lista_distritos_existentes, self.df, self.soma_populacao ,self.geracao + 1),\n",
    "              Individuo(self.lista_distritos_existentes, self.df, self.soma_populacao, self.geracao + 1)]\n",
    "    \n",
    "    filhos[0].cromossomo = cromossomo_filho_1\n",
    "    filhos[1].cromossomo = cromossomo_filho_2\n",
    "\n",
    "    return filhos\n",
    "  \n",
    "  def mutacao(self, taxa_mutacao):\n",
    "    for i in range(len(self.cromossomo)):\n",
    "      if random.random() < taxa_mutacao:\n",
    "        distrito_escolhido = round(random.random() * (len(self.lista_distritos_existentes) - 1))\n",
    "        self.cromossomo[i] = self.lista_distritos_existentes[distrito_escolhido]\n",
    "    return self"
   ]
  },
  {
   "cell_type": "code",
   "execution_count": 5,
   "metadata": {
    "execution": {
     "iopub.execute_input": "2022-02-14T00:29:17.922363Z",
     "iopub.status.busy": "2022-02-14T00:29:17.922363Z",
     "iopub.status.idle": "2022-02-14T00:29:17.937987Z",
     "shell.execute_reply": "2022-02-14T00:29:17.937987Z",
     "shell.execute_reply.started": "2022-02-14T00:29:17.922363Z"
    },
    "id": "b_xvPvYX3dqy",
    "tags": []
   },
   "outputs": [],
   "source": [
    "import random\n",
    "class AlgoritmoGenetico():\n",
    "  def __init__(self, tamanho_populacao):\n",
    "    self.tamanho_populacao = tamanho_populacao\n",
    "    self.populacao = []\n",
    "    self.geracao = 0\n",
    "    self.melhor_solucao = 0\n",
    "  \n",
    "  def inicializa_populacao(self, lista_distritos_existentes, tamanho_cromossomo, dicionario_adjacencia, df, soma_populacao):\n",
    "    for i in range(self.tamanho_populacao):\n",
    "      individuo_N = Individuo(lista_distritos_existentes, df, soma_populacao)\n",
    "      individuo_N.gerar_primeira_geracao(tamanho_cromossomo, dicionario_adjacencia)\n",
    "      self.populacao.append(individuo_N)\n",
    "      self.melhor_solucao = self.populacao[0]\n",
    "  \n",
    "  def orderna_populacao(self):\n",
    "    self.populacao = sorted(self.populacao, key= lambda populacao: populacao.nota_avaliacao)\n",
    "\n",
    "  def melhor_individuo(self, individuo):\n",
    "    if individuo.nota_avaliacao < self.melhor_solucao.nota_avaliacao:\n",
    "      print(\"Nota anterior: %s\" % self.melhor_solucao.nota_avaliacao, \" Nota Nova: %s\" % individuo.nota_avaliacao)\n",
    "      self.melhor_solucao = individuo\n",
    "  \n",
    "  def soma_avaliacoes(self, maior_avaliacao):\n",
    "    soma = 0\n",
    "    for individuo in self.populacao:\n",
    "      soma += maior_avaliacao - individuo.nota_avaliacao\n",
    "    return soma\n",
    "  \n",
    "  def seleciona_progenitor(self, soma_avaliacao, maior_avaliacao):\n",
    "    progenitor = -1\n",
    "    valor_sorteado = (soma_avaliacao * random.random())\n",
    "    soma = 0\n",
    "    i = 0\n",
    "    while i < len(self.populacao) and soma < valor_sorteado:\n",
    "      soma += maior_avaliacao - self.populacao[i].nota_avaliacao\n",
    "      progenitor += 1\n",
    "      i += 1\n",
    "    return progenitor\n",
    "  \n",
    "  def resolver(self, lista_distritos_existentes, tamanho_cromossomo, dicionario_adjacencia, df, soma_populacao, taxa_mutacao):\n",
    "    self.inicializa_populacao(lista_distritos_existentes, tamanho_cromossomo, dicionario_adjacencia, df, soma_populacao)\n",
    "\n",
    "    for individuo in self.populacao:\n",
    "      individuo.funcao_fitness()\n",
    "    \n",
    "    self.orderna_populacao()\n",
    "    \n",
    "    self.melhor_individuo(self.populacao[0])\n",
    "\n",
    "    for geracao_atual in range(numero_geracoes):\n",
    "      maior_avaliacao = self.populacao[-1].nota_avaliacao  \n",
    "      soma_avaliacao = self.soma_avaliacoes(maior_avaliacao)\n",
    "      nova_populacao = []\n",
    "\n",
    "      for individuos_gerados in range(0, self.tamanho_populacao, 2):\n",
    "       pai_1 = self.seleciona_progenitor(soma_avaliacao,maior_avaliacao)\n",
    "       pai_2 = self.seleciona_progenitor(soma_avaliacao,maior_avaliacao)\n",
    "\n",
    "       filhos = self.populacao[pai_1].crossover(self.populacao[pai_2])\n",
    "\n",
    "       nova_populacao.append(filhos[0].mutacao(taxa_mutacao))\n",
    "       nova_populacao.append(filhos[1].mutacao(taxa_mutacao))\n",
    "      \n",
    "        \n",
    "      for individuo_novo in nova_populacao:\n",
    "       individuo_novo.funcao_fitness()\n",
    "\n",
    "      #nova_populacao = sorted(nova_populacao, key= lambda populacao: populacao.nota_avaliacao)\n",
    "      self.populacao = list([*self.populacao[:self.tamanho_populacao//2],*nova_populacao[:self.tamanho_populacao//2]])  \n",
    "\n",
    "      self.orderna_populacao()\n",
    "      \n",
    "      self.melhor_individuo(self.populacao[0])\n",
    "      \n",
    "    return self.melhor_solucao\n"
   ]
  },
  {
   "cell_type": "markdown",
   "metadata": {
    "id": "Fg-vC8bw5sJA",
    "tags": []
   },
   "source": [
    "# Main\n"
   ]
  },
  {
   "cell_type": "code",
   "execution_count": null,
   "metadata": {
    "id": "kUxNum_f5wI5",
    "tags": []
   },
   "outputs": [],
   "source": [
    "for i in range(3):\n",
    "    tamanho_populacao = 50\n",
    "    numero_geracoes = 500\n",
    "    lista_distritos_existentes = ['A','B','C','D','E']\n",
    "    soma_populacao = dataset_cachoeiro['população'].sum()\n",
    "    #probabilidade_mutacao = 0.001\n",
    "    probabilidade_mutacao = 0.01\n",
    "\n",
    "    ag = AlgoritmoGenetico(tamanho_populacao)\n",
    "\n",
    "    result = ag.resolver(lista_distritos_existentes,69,contig_linhas_matrix.neighbors, dataset_cachoeiro, soma_populacao, probabilidade_mutacao)\n",
    "\n",
    "    print(\"Solucao Final: %s\\n\" % str(ag.melhor_solucao.cromossomo), \"Nota: \", ag.melhor_solucao.nota_avaliacao)\n",
    "#dataset_cachoeiro['setor'] = result.cromossomo\n",
    "#fig, ax = plt.subplots(1, 1, figsize=(10,10))\n",
    "#dataset_cachoeiro.plot(column='setor', ax=ax, legend=True, edgecolor=\"black\")\n"
   ]
  },
  {
   "cell_type": "markdown",
   "metadata": {},
   "source": [
    "## Avalicação"
   ]
  },
  {
   "cell_type": "markdown",
   "metadata": {},
   "source": [
    "### DIstribuição Utilizada Pela Policia Atualmente"
   ]
  },
  {
   "cell_type": "code",
   "execution_count": null,
   "metadata": {},
   "outputs": [],
   "source": [
    "individuo_teste_divisao_cachoeiro = Individuo(df=dataset_cachoeiro,\n",
    "                                              lista_distritos_existentes=['A','B','C','D','E'],\n",
    "                                              soma_populacao=soma_populacao)\n",
    "individuo_teste_divisao_cachoeiro.cromossomo = ['B','E','D','A','B','D','B','A','A','A','B','A','A','C','A','D','E','B','D','C','E','C','E','A','A','E','C','B','B','C','C','D','B','B','D','D','E','E','D','A','D','A','A','B','B','C','B','D','A','D','D','C','B','E','B','B','C','C','D','A','D','A','D','E','D','D','B','C','A']\n",
    "                                              \n",
    "individuo_1.funcao_fitness()\n",
    "print(individuo_1.nota_avaliacao)\n",
    "\n",
    "dataset_cachoeiro['setor'] = individuo_teste_divisao_cachoeiro.cromossomo\n",
    "fig, ax = plt.subplots(1, 1, figsize=(10,10))\n",
    "\n",
    "dataset_cachoeiro.plot(column='setor', ax=ax, legend=True, edgecolor=\"black\") #edgecolor=\"black\""
   ]
  },
  {
   "cell_type": "markdown",
   "metadata": {
    "id": "j3mKvIQ8joGY",
    "tags": []
   },
   "source": [
    "## Resultados"
   ]
  },
  {
   "cell_type": "code",
   "execution_count": 14,
   "metadata": {
    "execution": {
     "iopub.execute_input": "2022-02-14T02:47:02.947418Z",
     "iopub.status.busy": "2022-02-14T02:47:02.947418Z",
     "iopub.status.idle": "2022-02-14T02:47:02.958409Z",
     "shell.execute_reply": "2022-02-14T02:47:02.958409Z",
     "shell.execute_reply.started": "2022-02-14T02:47:02.947418Z"
    },
    "tags": []
   },
   "outputs": [
    {
     "data": {
      "text/html": [
       "<div>\n",
       "<style scoped>\n",
       "    .dataframe tbody tr th:only-of-type {\n",
       "        vertical-align: middle;\n",
       "    }\n",
       "\n",
       "    .dataframe tbody tr th {\n",
       "        vertical-align: top;\n",
       "    }\n",
       "\n",
       "    .dataframe thead th {\n",
       "        text-align: right;\n",
       "    }\n",
       "</style>\n",
       "<table border=\"1\" class=\"dataframe\">\n",
       "  <thead>\n",
       "    <tr style=\"text-align: right;\">\n",
       "      <th></th>\n",
       "      <th>a</th>\n",
       "    </tr>\n",
       "  </thead>\n",
       "  <tbody>\n",
       "    <tr>\n",
       "      <th>count</th>\n",
       "      <td>4.000000</td>\n",
       "    </tr>\n",
       "    <tr>\n",
       "      <th>mean</th>\n",
       "      <td>110862.417914</td>\n",
       "    </tr>\n",
       "    <tr>\n",
       "      <th>std</th>\n",
       "      <td>4337.620628</td>\n",
       "    </tr>\n",
       "    <tr>\n",
       "      <th>min</th>\n",
       "      <td>107184.151650</td>\n",
       "    </tr>\n",
       "    <tr>\n",
       "      <th>25%</th>\n",
       "      <td>108194.481184</td>\n",
       "    </tr>\n",
       "    <tr>\n",
       "      <th>50%</th>\n",
       "      <td>109640.978131</td>\n",
       "    </tr>\n",
       "    <tr>\n",
       "      <th>75%</th>\n",
       "      <td>112308.914861</td>\n",
       "    </tr>\n",
       "    <tr>\n",
       "      <th>max</th>\n",
       "      <td>116983.563742</td>\n",
       "    </tr>\n",
       "  </tbody>\n",
       "</table>\n",
       "</div>"
      ],
      "text/plain": [
       "                   a\n",
       "count       4.000000\n",
       "mean   110862.417914\n",
       "std      4337.620628\n",
       "min    107184.151650\n",
       "25%    108194.481184\n",
       "50%    109640.978131\n",
       "75%    112308.914861\n",
       "max    116983.563742"
      ]
     },
     "execution_count": 14,
     "metadata": {},
     "output_type": "execute_result"
    }
   ],
   "source": [
    "#50 1000 0.001\n",
    "\n",
    " #Nota:  111403.38709326243\n",
    " #Nota:  114769.07179188837\n",
    " #Nota:  110249.03601528051\n",
    "pd.DataFrame({'a': [107184.1516502761,110750.69856702277,108531.25769526594,116983.5637418628]}).describe()"
   ]
  },
  {
   "cell_type": "code",
   "execution_count": 1,
   "metadata": {
    "id": "Z-YC4OYVnZvT",
    "tags": []
   },
   "outputs": [],
   "source": [
    "########### SOLUÇÂO COM MAIS ALTERAÇOES BOAS  ###################\n",
    "## TOTAL DE ALTERAÇOES: 13 com geração de 1000 e pop de 30 -> PC\n",
    "## SELEÇÂO: ROLETA MIN / MUTAÇÂO: 0.001 / CROSSOVER: SEMPRE PRIMEIRO -> PONTO CORTE ALEATORIO 100% / DURAÇÂO ***\n",
    "## DE 315804.2754283709 ----> 111396.13477344207\n",
    "#Solucao_otima = ['A', 'D', 'C', 'B', 'B', 'C', 'A', 'B', 'E', 'B', 'E', 'B', 'B', 'E', 'B', 'D', 'D', 'A', 'C', 'E', 'D', 'E', 'D', 'B', 'B', 'C', 'C', 'A', 'A', 'B', 'E', 'C', 'A', 'A', 'C', 'C', 'D', 'D', 'E', 'B', 'D', 'A', 'B', 'A', 'A', 'E', 'E', 'E', 'B', 'C', 'E', 'E', 'A', 'D', 'A', 'A', 'E', 'B', 'C', 'B', 'D', 'B', 'D', 'D', 'D', 'D', 'A', 'C', 'B']\n",
    "\n",
    "## TOTAL DE ALTERAÇOES: 13 com geração de 500 e pop de 20 -> Colab\n",
    "## SELEÇÂO: ROLETA MIN / MUTAÇÂO: 0.001 / CROSSOVER: SEMPRE PRIMEIRO -> PONTO CORTE ALEATORIO 100% / DURAÇÂO 16m\n",
    "## DE 276556.3911770319 ----> 129748.50586359849\n",
    "#Solucao_otima = ['D', 'C', 'B', 'A', 'A', 'B', 'D', 'E', 'E', 'E', 'D', 'A', 'A', 'D', 'A', 'B', 'C', 'D', 'B', 'E', 'C', 'E', 'C', 'A', 'E', 'C', 'D', 'A', 'D', 'E', 'D', 'B', 'A', 'A', 'B', 'B', 'C', 'B', 'D', 'E', 'B', 'A', 'E', 'A', 'D', 'D', 'D', 'B', 'E', 'B', 'D', 'E', 'D', 'C', 'A', 'A', 'D', 'A', 'B', 'E', 'B', 'A', 'D', 'C', 'C', 'B', 'D', 'E', 'E']\n",
    "\n",
    "## TOTAL DE ALTERAÇOES: 16 com geração de 1000 e pop de 30 -> PC\n",
    "## SELEÇÂO: ROLETA MIN / MUTAÇÂO: 0.001 / CROSSOVER: SEMPRE PRIMEIRO -> PONTO CORTE ALEATORIO 100% / DURAÇÂO 34m13.52s\n",
    "## DE 223842.45377022692 ----> 128090.3908004894\n",
    "#Solucao_otima = ['D', 'C', 'B', 'E', 'E', 'B', 'D', 'E', 'E', 'E', 'D', 'E', 'E', 'A', 'E', 'B', 'C', 'D', 'B', 'A', 'C', 'D', 'C', 'E', 'E', 'B', 'B', 'D', 'D', 'E', 'A', 'B', 'D', 'E', 'B', 'B', 'C', 'C', 'A', 'E', 'B', 'D', 'E', 'D', 'D', 'A', 'D', 'B', 'A', 'B', 'D', 'A', 'D', 'C', 'D', 'D', 'A', 'E', 'B', 'A', 'C', 'E', 'A', 'B', 'B', 'A', 'D', 'A', 'E']\n",
    "\n",
    "## TOTAL DE ALTERAÇOES: 16 com geração de 1000 e pop de 30 -> Colab\n",
    "## SELEÇÂO: ROLETA MIN / MUTAÇÂO: 0.001 / CROSSOVER: SEMPRE PRIMEIRO -> PONTO CORTE ALEATORIO 100% / DURAÇÂO 45m21s\n",
    "## DE 229062.92261352437 ----> 122921.29679984934\n",
    "#Solucao_otima = ['C', 'D', 'E', 'B', 'B', 'E', 'C', 'B', 'B', 'A', 'C', 'B', 'B', 'A', 'B', 'E', 'D', 'C', 'E', 'A', 'D', 'B', 'D', 'B', 'B', 'E', 'A', 'C', 'C', 'A', 'C', 'E', 'C', 'B', 'E', 'E', 'D', 'D', 'A', 'B', 'E', 'B', 'B', 'C', 'C', 'A', 'C', 'A', 'A', 'D', 'C', 'A', 'C', 'D', 'C', 'C', 'A', 'B', 'E', 'A', 'E', 'B', 'D', 'D', 'D', 'D', 'C', 'A', 'B']\n",
    "\n",
    "## TOTAL DE ALTERAÇOES: 26 com geração de 1000 e pop de 30 -> PC\n",
    "## SELEÇÂO: ROLETA MIN / MUTAÇÂO: 0.001 / CROSSOVER: SEMPRE PRIMEIRO -> PONTO CORTE ALEATORIO 100% / DURAÇÂO 36m52.67s\n",
    "## DE 221272.6988904269 ----> 112487.89672413896\n",
    "#Solucao_otima = ['A', 'E', 'B', 'D', 'D', 'E', 'A', 'D', 'D', 'C', 'A', 'D', 'D', 'C', 'D', 'E', 'E', 'A', 'E', 'C', 'E', 'C', 'B', 'D', 'D', 'B', 'C', 'A', 'A', 'C', 'C', 'E', 'C', 'D', 'B', 'E', 'E', 'E', 'C', 'D', 'E', 'A', 'D', 'A', 'A', 'C', 'B', 'B', 'D', 'B', 'B', 'C', 'A', 'E', 'A', 'A', 'C', 'C', 'E', 'D', 'E', 'D', 'B', 'B', 'B', 'B', 'A', 'C', 'D']\n",
    "\n",
    "## TOTAL DE ALTERAÇOES: 23 com geração de 1000 e pop de 30 -> Colab\n",
    "## SELEÇÂO: ROLETA MIN (Max - Fi) / MUTAÇÂO: 0.001 / CROSSOVER: 50% MAIS APTA GERAÇÃO ANTIGA + 50% PRIMEIROS INDIVIUDOS CROSSOVER/ DURAÇÂO 44m46s\n",
    "## DE 156402.25975655118 ----> 115037.32757067417\n",
    "#Solucao_otima = ['B', 'C', 'D', 'E', 'E', 'D', 'B', 'E', 'E', 'A', 'B', 'E', 'E', 'A', 'E', 'D', 'C', 'B', 'D', 'A', 'C', 'A', 'C', 'E', 'E', 'D', 'D', 'B', 'B', 'A', 'B', 'D', 'E', 'E', 'D', 'D', 'C', 'C', 'D', 'E', 'D', 'E', 'E', 'B', 'B', 'A', 'B', 'D', 'A', 'D', 'B', 'A', 'B', 'C', 'B', 'B', 'A', 'A', 'D', 'A', 'C', 'E', 'C', 'C', 'C', 'C', 'B', 'A', 'E']\n",
    "\n",
    "## TOTAL DE ALTERAÇOES: 15 com geração de 1000 e pop de 30 -> Colab\n",
    "## SELEÇÂO: ROLETA MIN (Max - Fi) / MUTAÇÂO: 0.001 / CROSSOVER: 50% MAIS APTA GERAÇÃO ANTIGA + 50% PRIMEIROS INDIVIUDOS CROSSOVER/ DURAÇÂO 44m56s\n",
    "## DE 245450.54290633768 ----> 114386.81397144058\n",
    "#Solucao_otima = ['C', 'A', 'E', 'D', 'D', 'A', 'C', 'D', 'D', 'B', 'C', 'D', 'D', 'E', 'D', 'A', 'A', 'C', 'A', 'B', 'A', 'B', 'A', 'D', 'D', 'E', 'B', 'C', 'C', 'E', 'B', 'A', 'B', 'D', 'A', 'A', 'A', 'A', 'B', 'D', 'A', 'D', 'D', 'C', 'C', 'E', 'C', 'E', 'B', 'E', 'C', 'B', 'C', 'A', 'C', 'D', 'E', 'B', 'E', 'B', 'A', 'D', 'B', 'A', 'B', 'B', 'C', 'E', 'D']\n",
    "\n",
    "## TOTAL DE ALTERAÇOES: 16 com geração de 1000 e pop de 30 -> Colab\n",
    "## SELEÇÂO: ROLETA MIN (Max - Fi) / MUTAÇÂO: 0.001 / CROSSOVER: 50% MAIS APTA GERAÇÃO ANTIGA + 50% PRIMEIROS INDIVIUDOS CROSSOVER/ DURAÇÂO 46m39s\n",
    "## DE 250792.854247542 ----> 117804.20393605682\n",
    "#Solucao_otima = ['D', 'E', 'C', 'A', 'A', 'C', 'D', 'A', 'A', 'A', 'C', 'A', 'A', 'B', 'A', 'E', 'E', 'D', 'E', 'B', 'E', 'B', 'E', 'A', 'A', 'C', 'C', 'D', 'D', 'B', 'B', 'E', 'D', 'A', 'E', 'E', 'E', 'E', 'B', 'A', 'C', 'D', 'A', 'D', 'D', 'C', 'D', 'C', 'B', 'C', 'C', 'B', 'D', 'E', 'D', 'D', 'B', 'B', 'C', 'B', 'E', 'A', 'C', 'E', 'E', 'C', 'D', 'B', 'A']\n",
    "\n",
    "## TOTAL DE ALTERAÇOES: 16 com geração de 1000 e pop de 30 -> Colab\n",
    "## SELEÇÂO: ROLETA MIN (Max - Fi) / MUTAÇÂO: 0.001 / CROSSOVER: 50% MAIS APTA GERAÇÃO ANTIGA + 50% PRIMEIROS INDIVIUDOS CROSSOVER/ DURAÇÂO 46m10s\n",
    "## DE 228383.48635847084 ----> 114045.54137639253\n",
    "#Solucao_otima = ['D', 'A', 'B', 'C', 'C', 'A', 'D', 'C', 'C', 'E', 'D', 'C', 'E', 'E', 'C', 'B', 'A', 'D', 'A', 'E', 'A', 'E', 'A', 'C', 'C', 'A', 'B', 'D', 'D', 'C', 'E', 'B', 'C', 'E', 'B', 'B', 'A', 'A', 'B', 'C', 'B', 'C', 'C', 'D', 'D', 'B', 'D', 'B', 'E', 'B', 'D', 'E', 'D', 'A', 'D', 'C', 'B', 'C', 'B', 'E', 'A', 'C', 'D', 'A', 'A', 'B', 'D', 'E', 'C']\n",
    "\n",
    "## TOTAL DE ALTERAÇOES: 28 com geração de 1000 e pop de 30 -> Colab\n",
    "## SELEÇÂO: ROLETA MIN (Max - Fi) / MUTAÇÂO: 0.001 / CROSSOVER: 50% MAIS APTA GERAÇÃO ANTIGA + 50% MAIS APTA CROSSOVER/ DURAÇÂO 45m27s\n",
    "## DE 203209.0043366531 ----> 128615.32152049405\n",
    "#Solucao_otima = ['B', 'D', 'A', 'E', 'E', 'A', 'B', 'E', 'E', 'C', 'B', 'E', 'E', 'C', 'E', 'D', 'D', 'B', 'A', 'C', 'D', 'C', 'A', 'E', 'E', 'A', 'A', 'B', 'B', 'C', 'C', 'A', 'E', 'E', 'A', 'A', 'D', 'D', 'C', 'E', 'A', 'E', 'E', 'B', 'B', 'C', 'B', 'A', 'C', 'A', 'B', 'C', 'B', 'D', 'B', 'B', 'C', 'C', 'A', 'C', 'D', 'E', 'C', 'D', 'D', 'C', 'B', 'C', 'E']\n",
    "\n",
    "## TOTAL DE ALTERAÇOES: 32 com geração de 1000 e pop de 30 -> Colab\n",
    "## SELEÇÂO: ROLETA MIN (Max - Fi) / MUTAÇÂO: 0.001 / CROSSOVER: 50% MAIS APTA GERAÇÃO ANTIGA + 50% MAIS APTA CROSSOVER/ DURAÇÂO 45m40s\n",
    "## DE 302499.4227810439 ----> 114370.72467464549\n",
    "#Solucao_otima = ['E', 'C', 'C', 'A', 'A', 'C', 'E', 'A', 'A', 'A', 'D', 'A', 'A', 'D', 'A', 'C', 'C', 'E', 'C', 'D', 'C', 'D', 'C', 'A', 'A', 'B', 'B', 'E', 'E', 'D', 'D', 'B', 'E', 'D', 'B', 'C', 'C', 'C', 'E', 'A', 'C', 'A', 'A', 'E', 'E', 'B', 'E', 'B', 'D', 'B', 'E', 'D', 'E', 'C', 'E', 'E', 'D', 'A', 'B', 'D', 'C', 'A', 'E', 'C', 'B', 'B', 'E', 'B', 'A']\n",
    "\n",
    "## TOTAL DE ALTERAÇOES: 16 com geração de 1000 e pop de 30 -> Colab\n",
    "## SELEÇÂO: ROLETA MIN (Max - Fi) / MUTAÇÂO: 0.001 / CROSSOVER: 50% MAIS APTA GERAÇÃO ANTIGA + 50% MAIS APTA CROSSOVER/ DURAÇÂO 45m23s\n",
    "## DE 362462.43244650814 ----> 118115.28524682306\n",
    "#Solucao_otima = ['E', 'D', 'B', 'C', 'E', 'B', 'E', 'C', 'C', 'C', 'D', 'C', 'C', 'A', 'C', 'B', 'D', 'E', 'B', 'A', 'D', 'C', 'B', 'C', 'C', 'B', 'A', 'E', 'E', 'C', 'A', 'B', 'E', 'E', 'B', 'B', 'D', 'D', 'A', 'C', 'B', 'E', 'C', 'E', 'E', 'A', 'D', 'A', 'C', 'A', 'D', 'A', 'D', 'D', 'E', 'E', 'A', 'C', 'B', 'C', 'B', 'E', 'D', 'B', 'D', 'A', 'E', 'A', 'C']\n",
    "\n",
    "## TOTAL DE ALTERAÇOES: 28 com geração de 1000 e pop de 30 -> Colab\n",
    "## SELEÇÂO: ROLETA MIN (Max - Fi) / MUTAÇÂO: 0.001 / CROSSOVER: 50% MAIS APTA GERAÇÃO ANTIGA + 50% MAIS APTA CROSSOVER/ DURAÇÂO 1h15m13s\n",
    "## DE 333458.1810112527 ----> 106032.51424137432\n",
    "#Solucao_otima = ['A', 'B', 'E', 'C', 'D', 'E', 'A', 'C', 'D', 'C', 'A', 'C', 'C', 'D', 'C', 'B', 'B', 'A', 'B', 'E', 'B', 'D', 'B', 'C', 'C', 'B', 'E', 'D', 'A', 'D', 'D', 'E', 'D', 'C', 'E', 'B', 'B', 'B', 'D', 'C', 'E', 'D', 'C', 'D', 'D', 'E', 'A', 'E', 'C', 'E', 'A', 'D', 'A', 'B', 'D', 'D', 'E', 'C', 'E', 'C', 'B', 'C', 'A', 'B', 'B', 'A', 'A', 'E', 'C']\n",
    "\n",
    "## TOTAL DE ALTERAÇOES: 27 com geração de 1000 e pop de 50 -> Colab\n",
    "## SELEÇÂO: ROLETA MIN (Max - Fi) / MUTAÇÂO: 0.001 / CROSSOVER: 50% MAIS APTA GERAÇÃO ANTIGA + 50% MAIS APTA CROSSOVER/ DURAÇÂO 37m49s\n",
    "## DE 332640.29892209155 ----> 109335.641154188\n",
    "#Solucao_otima =  ['C', 'A', 'A', 'B', 'B', 'E', 'C', 'B', 'B', 'D', 'D', 'B', 'B', 'D', 'B', 'E', 'A', 'C', 'A', 'D', 'A', 'D', 'A', 'B', 'B', 'E', 'E', 'C', 'C', 'D', 'D', 'E', 'C', 'B', 'E', 'A', 'A', 'A', 'D', 'B', 'E', 'C', 'B', 'C', 'C', 'D', 'C', 'D', 'B', 'E', 'C', 'D', 'C', 'A', 'C', 'C', 'D', 'D', 'E', 'B', 'A', 'B', 'C', 'A', 'A', 'D', 'C', 'E', 'B']\n",
    "\n",
    "## TOTAL DE ALTERAÇOES: 30 com geração de 1000 e pop de 50 -> Colab\n",
    "## SELEÇÂO: ROLETA MIN (Max - Fi) / MUTAÇÂO: 0.001 / CROSSOVER: 50% MAIS APTA GERAÇÃO ANTIGA + 50% MAIS APTA CROSSOVER/ DURAÇÂO 1h13m14s\n",
    "## DE 305509.64680852473 ----> 126165.65284381277\n",
    "#Solucao_otima =  ['C', 'E', 'D', 'A', 'A', 'D', 'C', 'A', 'A', 'A', 'B', 'A', 'C', 'B', 'A', 'D', 'E', 'C', 'D', 'A', 'E', 'C', 'E', 'A', 'A', 'D', 'B', 'C', 'C', 'B', 'B', 'D', 'C', 'A', 'D', 'D', 'E', 'E', 'B', 'A', 'D', 'C', 'A', 'C', 'C', 'B', 'C', 'D', 'A', 'D', 'B', 'B', 'C', 'E', 'C', 'C', 'B', 'A', 'D', 'A', 'E', 'A', 'B', 'D', 'D', 'B', 'C', 'B', 'A']\n",
    "\n",
    "## TOTAL DE ALTERAÇOES: 10 com geração de 1000 e pop de 50 -> Colab\n",
    "## SELEÇÂO: ROLETA MIN (Max - Fi) / MUTAÇÂO: 0.001 / CROSSOVER: 50% MAIS APTA GERAÇÃO ANTIGA + 50% MAIS APTA CROSSOVER/ DURAÇÂO 1h12m48s\n",
    "## DE 190422.41307786314 ----> 112303.64684117022\n",
    "#Solucao_otima =  ['E', 'B', 'A', 'C', 'D', 'A', 'E', 'D', 'D', 'C', 'E', 'D', 'D', 'C', 'D', 'B', 'B', 'E', 'B', 'C', 'B', 'D', 'B', 'D', 'D', 'A', 'A', 'E', 'E', 'C', 'A', 'A', 'E', 'D', 'A', 'B', 'B', 'B', 'A', 'D', 'B', 'D', 'D', 'E', 'E', 'A', 'E', 'A', 'C', 'A', 'A', 'C', 'E', 'B', 'E', 'D', 'C', 'C', 'A', 'C', 'B', 'D', 'A', 'B', 'B', 'A', 'E', 'C', 'D']\n",
    "\n",
    "## TOTAL DE ALTERAÇOES: 44 com geração de 1000 e pop de 50 -> Colab\n",
    "## SELEÇÂO: ROLETA MIN (Max - Fi) / MUTAÇÂO: 0.01 / CROSSOVER: 50% MAIS APTA GERAÇÃO ANTIGA + 50% MAIS APTA CROSSOVER/ DURAÇÂO 59m12s\n",
    "## DE 225801.04263977648 ----> 103198.11272587195\n",
    "#Solucao_otima =  ['E', 'D', 'D', 'C', 'C', 'A', 'E', 'C', 'C', 'B', 'B', 'C', 'C', 'B', 'C', 'D', 'D', 'E', 'D', 'A', 'D', 'B', 'D', 'C', 'C', 'A', 'A', 'E', 'E', 'B', 'B', 'A', 'E', 'C', 'A', 'A', 'D', 'D', 'B', 'C', 'A', 'E', 'C', 'E', 'E', 'B', 'E', 'A', 'C', 'A', 'E', 'B', 'E', 'D', 'E', 'E', 'B', 'B', 'A', 'C', 'D', 'C', 'E', 'D', 'D', 'B', 'E', 'A', 'C']\n",
    "\n",
    "## TOTAL DE ALTERAÇOES: 32 com geração de 1000 e pop de 50 -> Colab\n",
    "## SELEÇÂO: ROLETA MIN (Max - Fi) / MUTAÇÂO: 0.01 / CROSSOVER: 50% MAIS APTA GERAÇÃO ANTIGA + 50% MAIS APTA CROSSOVER/ DURAÇÂO 58m25s\n",
    "## DE 314445.0924776073 ----> 107532.58076485778\n",
    "#Solucao_otima =  ['D', 'E', 'E', 'C', 'C', 'E', 'D', 'C', 'C', 'A', 'A', 'C', 'C', 'A', 'C', 'E', 'E', 'D', 'E', 'A', 'E', 'A', 'B', 'C', 'C', 'B', 'A', 'A', 'D', 'A', 'A', 'B', 'D', 'A', 'B', 'E', 'E', 'E', 'A', 'C', 'E', 'D', 'C', 'D', 'D', 'A', 'D', 'B', 'C', 'B', 'D', 'A', 'D', 'E', 'D', 'D', 'A', 'A', 'B', 'C', 'E', 'C', 'D', 'E', 'E', 'B', 'D', 'B', 'C']\n",
    "\n",
    "## TOTAL DE ALTERAÇOES: 13 com geração de 1000 e pop de 50 -> Colab\n",
    "## SELEÇÂO: ROLETA MIN (Max - Fi) / MUTAÇÂO: 0.01 / CROSSOVER: 50% MAIS APTA GERAÇÃO ANTIGA + 50% MAIS APTA CROSSOVER/ DURAÇÂO 59m49s\n",
    "## DE 321290.15276169265 ----> 111144.00946009085\n",
    "#Solucao_otima = ['E', 'D', 'C', 'B', 'A', 'D', 'E', 'A', 'A', 'B', 'E', 'A', 'A', 'B', 'A', 'D', 'D', 'E', 'D', 'B', 'D', 'A', 'D', 'A', 'A', 'C', 'C', 'E', 'E', 'B', 'B', 'C', 'A', 'A', 'C', 'D', 'D', 'D', 'B', 'A', 'D', 'A', 'A', 'E', 'E', 'C', 'E', 'C', 'B', 'C', 'C', 'B', 'E', 'D', 'E', 'E', 'C', 'B', 'C', 'B', 'D', 'A', 'C', 'D', 'C', 'C', 'E', 'B', 'A']\n",
    "\n",
    "## TOTAL DE ALTERAÇOES: 32 com geração de 1000 e pop de 50 -> Colab\n",
    "## SELEÇÂO: ROLETA MIN (Max - Fi) / MUTAÇÂO: 0.01 / CROSSOVER: 50% MAIS APTA GERAÇÃO ANTIGA + 50% MAIS APTA CROSSOVER/ DURAÇÂO 59m22s\n",
    "## DE 304732.0343368981 ----> 105521.1798999221\n",
    "#Solucao_otima =  ['C', 'E', 'A', 'D', 'C', 'A', 'C', 'D', 'D', 'D', 'B', 'D', 'D', 'B', 'D', 'E', 'E', 'C', 'E', 'A', 'E', 'B', 'E', 'D', 'D', 'A', 'A', 'C', 'B', 'D', 'B', 'E', 'C', 'C', 'A', 'E', 'E', 'E', 'A', 'D', 'A', 'C', 'D', 'C', 'C', 'A', 'B', 'A', 'D', 'A', 'B', 'D', 'B', 'E', 'C', 'C', 'B', 'D', 'A', 'D', 'E', 'C', 'B', 'E', 'E', 'B', 'C', 'A', 'D']\n"
   ]
  }
 ],
 "metadata": {
  "colab": {
   "name": "Testando Centroid shapefile.ipynb",
   "provenance": [],
   "toc_visible": true
  },
  "kernelspec": {
   "display_name": "Python 3 (ipykernel)",
   "language": "python",
   "name": "python3"
  },
  "language_info": {
   "codemirror_mode": {
    "name": "ipython",
    "version": 3
   },
   "file_extension": ".py",
   "mimetype": "text/x-python",
   "name": "python",
   "nbconvert_exporter": "python",
   "pygments_lexer": "ipython3",
   "version": "3.9.7"
  }
 },
 "nbformat": 4,
 "nbformat_minor": 4
}
